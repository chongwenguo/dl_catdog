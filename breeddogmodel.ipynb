{
 "cells": [
  {
   "cell_type": "code",
   "execution_count": 1,
   "metadata": {},
   "outputs": [],
   "source": [
    "%matplotlib inline"
   ]
  },
  {
   "cell_type": "code",
   "execution_count": 2,
   "metadata": {},
   "outputs": [],
   "source": [
    "import model_utils\n",
    "import torch\n",
    "import torchvision\n",
    "import torch.nn as nn\n",
    "import torch.optim as optim\n",
    "from torchvision import datasets\n",
    "from torch.optim import lr_scheduler\n",
    "import torchvision.transforms as transforms\n",
    "import numpy as np\n",
    "import matplotlib.pyplot as plt\n",
    "from torch.autograd import Variable"
   ]
  },
  {
   "cell_type": "code",
   "execution_count": 3,
   "metadata": {},
   "outputs": [],
   "source": [
    "data_dir = 'data/masked_images/data/trainval/breeds_dog/'\n",
    "test_data_dir = 'data/masked_images/data/test/breeds_dog/'\n",
    "normalize = torchvision.transforms.Normalize(mean=[0.485, 0.456, 0.406],\n",
    "                                  std=[0.229, 0.224, 0.225])\n",
    "train_transforms = transforms.Compose([transforms.Resize(224),\n",
    "                                        transforms.CenterCrop(224),\n",
    "                                       transforms.ToTensor(),\n",
    "                                       normalize\n",
    "                                       ])\n",
    "test_transforms = transforms.Compose([transforms.Resize(224),\n",
    "                                        transforms.CenterCrop(224),\n",
    "                                       transforms.ToTensor(),\n",
    "                                       normalize\n",
    "                                       ])\n",
    "trainloader, valloader, classes = model_utils.load_data('breeds_dog', train_transforms, test_transforms, 1)\n",
    "#trainloader, valloader, classes, labels = model_utils.load_split_train_val(data_dir, train_transforms,test_transforms, normalize,.25)"
   ]
  },
  {
   "cell_type": "code",
   "execution_count": 4,
   "metadata": {},
   "outputs": [],
   "source": [
    "use_gpu = torch.cuda.is_available()\n",
    "\n",
    "model_dog = torchvision.models.resnet50(pretrained=True)\n",
    "num_ftrs = model_dog.fc.in_features\n",
    "\n",
    "model_dog.fc = nn.Linear(num_ftrs, len(classes))\n",
    "\n",
    "if use_gpu:\n",
    "    model_dog = model_dog.cuda()\n",
    "\n",
    "criterion = nn.CrossEntropyLoss()\n",
    "\n",
    "optimizer_ft = optim.SGD(model_dog.parameters(), lr=0.001)\n",
    "\n",
    "scheduler = lr_scheduler.StepLR(optimizer_ft, step_size=5, gamma=0.1)"
   ]
  },
  {
   "cell_type": "code",
   "execution_count": null,
   "metadata": {},
   "outputs": [
    {
     "name": "stdout",
     "output_type": "stream",
     "text": [
      "Epoch 0/9\n",
      "--------------------\n",
      "train Loss: 3.3087 Acc: 0.0404\n",
      "val Loss: 3.0179 Acc: 0.0886\n",
      "--------------------\n",
      "Epoch 1/9\n",
      "--------------------\n",
      "train Loss: 3.2211 Acc: 0.0576\n",
      "val Loss: 2.5487 Acc: 0.3808\n",
      "--------------------\n",
      "Epoch 2/9\n",
      "--------------------\n",
      "train Loss: 2.8779 Acc: 0.1805\n",
      "val Loss: 1.7730 Acc: 0.5668\n",
      "--------------------\n",
      "Epoch 3/9\n",
      "--------------------\n",
      "train Loss: 1.8494 Acc: 0.5282\n",
      "val Loss: 1.2836 Acc: 0.6330\n",
      "--------------------\n",
      "Epoch 4/9\n",
      "--------------------\n",
      "train Loss: 1.0547 Acc: 0.7491\n",
      "val Loss: 1.0654 Acc: 0.7640\n",
      "--------------------\n",
      "Epoch 5/9\n",
      "--------------------\n",
      "train Loss: 0.6052 Acc: 0.9085\n",
      "val Loss: 1.1169 Acc: 0.7765\n",
      "--------------------\n",
      "Epoch 6/9\n",
      "--------------------\n",
      "train Loss: 0.5243 Acc: 0.9345\n",
      "val Loss: 1.1637 Acc: 0.7591\n",
      "--------------------\n",
      "Epoch 7/9\n",
      "--------------------\n",
      "train Loss: 0.4743 Acc: 0.9424\n",
      "val Loss: 1.2742 Acc: 0.7416\n",
      "--------------------\n",
      "Epoch 8/9\n",
      "--------------------\n",
      "train Loss: 0.4327 Acc: 0.9539\n"
     ]
    }
   ],
   "source": [
    "model_dog = model_utils.train_model(model=model_dog,\n",
    "                           criterion=criterion,\n",
    "                           optimizer=optimizer_ft,\n",
    "                           scheduler=scheduler,\n",
    "                           trainloader=trainloader,\n",
    "                           valloader=valloader,\n",
    "                           num_epochs=10)"
   ]
  },
  {
   "cell_type": "code",
   "execution_count": null,
   "metadata": {},
   "outputs": [],
   "source": [
    "saving_path = './trained_model/resnet50_breed_dog.pth'\n",
    "torch.save(model_dog, saving_path)"
   ]
  },
  {
   "cell_type": "code",
   "execution_count": null,
   "metadata": {},
   "outputs": [],
   "source": [
    "model_utils.print_test_acc(model_dog, test_transforms, normalize, test_data_dir)"
   ]
  },
  {
   "cell_type": "code",
   "execution_count": null,
   "metadata": {},
   "outputs": [],
   "source": []
  }
 ],
 "metadata": {
  "kernelspec": {
   "display_name": "Python 3",
   "language": "python",
   "name": "python3"
  },
  "language_info": {
   "codemirror_mode": {
    "name": "ipython",
    "version": 3
   },
   "file_extension": ".py",
   "mimetype": "text/x-python",
   "name": "python",
   "nbconvert_exporter": "python",
   "pygments_lexer": "ipython3",
   "version": "3.6.5"
  }
 },
 "nbformat": 4,
 "nbformat_minor": 2
}
