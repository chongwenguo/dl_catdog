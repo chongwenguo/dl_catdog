{
 "cells": [
  {
   "cell_type": "code",
   "execution_count": 1,
   "metadata": {},
   "outputs": [],
   "source": [
    "%matplotlib inline"
   ]
  },
  {
   "cell_type": "code",
   "execution_count": 2,
   "metadata": {},
   "outputs": [],
   "source": [
    "import model_utils\n",
    "import torch\n",
    "import torchvision\n",
    "import torch.nn as nn\n",
    "import torch.optim as optim\n",
    "from torchvision import datasets\n",
    "from torch.optim import lr_scheduler\n",
    "import torchvision.transforms as transforms\n",
    "import numpy as np\n",
    "import matplotlib.pyplot as plt\n",
    "from torch.autograd import Variable"
   ]
  },
  {
   "cell_type": "code",
   "execution_count": 4,
   "metadata": {},
   "outputs": [],
   "source": [
    "data_dir = 'data/masked_images/data/trainval/breeds_dog/'\n",
    "test_data_dir = 'data/masked_images/data/test/breeds_dog/'\n",
    "normalize = torchvision.transforms.Normalize(mean=[0.485, 0.456, 0.406],\n",
    "                                  std=[0.229, 0.224, 0.225])\n",
    "train_transforms = transforms.Compose([transforms.Resize(224),\n",
    "                                        transforms.CenterCrop(224),\n",
    "                                       transforms.ToTensor(),\n",
    "                                       normalize\n",
    "                                       ])\n",
    "test_transforms = transforms.Compose([transforms.Resize(224),\n",
    "                                        transforms.CenterCrop(224),\n",
    "                                       transforms.ToTensor(),\n",
    "                                       normalize\n",
    "                                       ])\n",
    "trainloader, valloader, classes, len_train, len_val = model_utils.load_data('breeds_dog', train_transforms, test_transforms, 1)\n",
    "#trainloader, valloader, classes, labels = model_utils.load_split_train_val(data_dir, train_transforms,test_transforms, normalize,.25)"
   ]
  },
  {
   "cell_type": "code",
   "execution_count": 5,
   "metadata": {},
   "outputs": [],
   "source": [
    "use_gpu = torch.cuda.is_available()\n",
    "\n",
    "model_dog = torchvision.models.resnet50(pretrained=True)\n",
    "num_ftrs = model_dog.fc.in_features\n",
    "\n",
    "model_dog.fc = nn.Linear(num_ftrs, len(classes))\n",
    "\n",
    "if use_gpu:\n",
    "    model_dog = model_dog.cuda()\n",
    "\n",
    "criterion = nn.CrossEntropyLoss()\n",
    "\n",
    "optimizer_ft = optim.SGD(model_dog.parameters(), lr=0.001)\n",
    "\n",
    "scheduler = lr_scheduler.StepLR(optimizer_ft, step_size=5, gamma=0.1)"
   ]
  },
  {
   "cell_type": "code",
   "execution_count": 6,
   "metadata": {},
   "outputs": [
    {
     "name": "stdout",
     "output_type": "stream",
     "text": [
      "Epoch 0/9\n",
      "--------------------\n",
      "train Loss: 3.3039 Acc: 0.0388\n",
      "val Loss: 2.9766 Acc: 0.1436\n",
      "--------------------\n",
      "Epoch 1/9\n",
      "--------------------\n",
      "train Loss: 3.2206 Acc: 0.0583\n",
      "val Loss: 2.4023 Acc: 0.4407\n",
      "--------------------\n",
      "Epoch 2/9\n",
      "--------------------\n",
      "train Loss: 2.8798 Acc: 0.1748\n",
      "val Loss: 1.6446 Acc: 0.5655\n",
      "--------------------\n",
      "Epoch 3/9\n",
      "--------------------\n",
      "train Loss: 1.8791 Acc: 0.5257\n",
      "val Loss: 1.2423 Acc: 0.6429\n",
      "--------------------\n",
      "Epoch 4/9\n",
      "--------------------\n",
      "train Loss: 1.0692 Acc: 0.7318\n",
      "val Loss: 1.1815 Acc: 0.6679\n",
      "--------------------\n",
      "Epoch 5/9\n",
      "--------------------\n",
      "train Loss: 0.6151 Acc: 0.9098\n",
      "val Loss: 1.0839 Acc: 0.7853\n",
      "--------------------\n",
      "Epoch 6/9\n",
      "--------------------\n",
      "train Loss: 0.5363 Acc: 0.9320\n",
      "val Loss: 1.0935 Acc: 0.7915\n",
      "--------------------\n",
      "Epoch 7/9\n",
      "--------------------\n",
      "train Loss: 0.4866 Acc: 0.9433\n",
      "val Loss: 1.1604 Acc: 0.7740\n",
      "--------------------\n",
      "Epoch 8/9\n",
      "--------------------\n",
      "train Loss: 0.4442 Acc: 0.9496\n",
      "val Loss: 1.1551 Acc: 0.7353\n",
      "--------------------\n",
      "Epoch 9/9\n",
      "--------------------\n",
      "train Loss: 0.4085 Acc: 0.9561\n",
      "val Loss: 1.0748 Acc: 0.8027\n",
      "--------------------\n",
      "Best val Acc: 0.802747\n"
     ]
    }
   ],
   "source": [
    "model_dog = model_utils.train_model(model=model_dog,\n",
    "                           criterion=criterion,\n",
    "                           optimizer=optimizer_ft,\n",
    "                           scheduler=scheduler,\n",
    "                           trainloader=trainloader,\n",
    "                           valloader=valloader,\n",
    "                           num_epochs=10)"
   ]
  },
  {
   "cell_type": "code",
   "execution_count": 7,
   "metadata": {},
   "outputs": [],
   "source": [
    "saving_path = './trained_model/resnet50_breed_dog.pth'\n",
    "torch.save(model_dog, saving_path)"
   ]
  },
  {
   "cell_type": "code",
   "execution_count": 8,
   "metadata": {},
   "outputs": [
    {
     "name": "stdout",
     "output_type": "stream",
     "text": [
      "Overall accuracy for all breeds 82% \n",
      "\n",
      "Accuracy of american_bulldog : 92 %\n",
      "Accuracy of american_pit_bull_terrier : 55 %\n",
      "Accuracy of basset_hound : 85 %\n",
      "Accuracy of beagle : 80 %\n",
      "Accuracy of boxer : 66 %\n",
      "Accuracy of chihuahua : 92 %\n",
      "Accuracy of english_cocker_spaniel : 45 %\n",
      "Accuracy of english_setter : 75 %\n",
      "Accuracy of german_shorthaired : 82 %\n",
      "Accuracy of great_pyrenees : 92 %\n",
      "Accuracy of havanese : 60 %\n",
      "Accuracy of japanese_chin : 90 %\n",
      "Accuracy of keeshond : 92 %\n",
      "Accuracy of leonberger : 95 %\n",
      "Accuracy of miniature_pinscher : 85 %\n",
      "Accuracy of newfoundland : 75 %\n",
      "Accuracy of pomeranian : 90 %\n",
      "Accuracy of   pug : 92 %\n",
      "Accuracy of saint_bernard : 95 %\n",
      "Accuracy of samoyed : 95 %\n",
      "Accuracy of scottish_terrier : 94 %\n",
      "Accuracy of shiba_inu : 97 %\n",
      "Accuracy of staffordshire_bull_terrier : 37 %\n",
      "Accuracy of wheaten_terrier : 92 %\n",
      "Accuracy of yorkshire_terrier : 92 %\n"
     ]
    }
   ],
   "source": [
    "model_utils.print_test_acc(model_dog, test_transforms, normalize, test_data_dir)"
   ]
  },
  {
   "cell_type": "code",
   "execution_count": 9,
   "metadata": {},
   "outputs": [],
   "source": [
    "data_dir = 'data/trainval/breeds_dog/'\n",
    "test_data_dir = 'data/test/breeds_dog/'\n",
    "trainloader, valloader, classes, len_train, len_val = model_utils.load_data('breeds_dog', train_transforms, test_transforms, 1)"
   ]
  },
  {
   "cell_type": "code",
   "execution_count": 10,
   "metadata": {},
   "outputs": [],
   "source": [
    "model_dog_raw = torchvision.models.resnet50(pretrained=True)\n",
    "num_ftrs = model_dog_raw.fc.in_features\n",
    "\n",
    "model_dog_raw.fc = nn.Linear(num_ftrs, len(classes))\n",
    "\n",
    "if use_gpu:\n",
    "    model_dog_raw = model_dog_raw.cuda()\n",
    "\n",
    "criterion = nn.CrossEntropyLoss()\n",
    "\n",
    "optimizer_ft = optim.SGD(model_dog_raw.parameters(), lr=0.001)\n",
    "\n",
    "scheduler = lr_scheduler.StepLR(optimizer_ft, step_size=5, gamma=0.1)"
   ]
  },
  {
   "cell_type": "code",
   "execution_count": 11,
   "metadata": {},
   "outputs": [
    {
     "name": "stdout",
     "output_type": "stream",
     "text": [
      "Epoch 0/9\n",
      "--------------------\n",
      "train Loss: 3.3076 Acc: 0.0476\n",
      "val Loss: 2.9916 Acc: 0.1136\n",
      "--------------------\n",
      "Epoch 1/9\n",
      "--------------------\n",
      "train Loss: 3.2212 Acc: 0.0627\n",
      "val Loss: 2.4569 Acc: 0.3408\n",
      "--------------------\n",
      "Epoch 2/9\n",
      "--------------------\n",
      "train Loss: 2.8983 Acc: 0.1742\n",
      "val Loss: 1.6809 Acc: 0.5581\n",
      "--------------------\n",
      "Epoch 3/9\n",
      "--------------------\n",
      "train Loss: 1.8884 Acc: 0.5373\n",
      "val Loss: 1.1829 Acc: 0.6779\n",
      "--------------------\n",
      "Epoch 4/9\n",
      "--------------------\n",
      "train Loss: 1.0681 Acc: 0.7315\n",
      "val Loss: 1.1412 Acc: 0.6916\n",
      "--------------------\n",
      "Epoch 5/9\n",
      "--------------------\n",
      "train Loss: 0.6088 Acc: 0.9091\n",
      "val Loss: 1.1497 Acc: 0.7690\n",
      "--------------------\n",
      "Epoch 6/9\n",
      "--------------------\n",
      "train Loss: 0.5293 Acc: 0.9348\n",
      "val Loss: 1.1277 Acc: 0.7740\n",
      "--------------------\n",
      "Epoch 7/9\n",
      "--------------------\n",
      "train Loss: 0.4789 Acc: 0.9499\n",
      "val Loss: 1.0718 Acc: 0.7840\n",
      "--------------------\n",
      "Epoch 8/9\n",
      "--------------------\n",
      "train Loss: 0.4381 Acc: 0.9555\n",
      "val Loss: 1.1928 Acc: 0.7703\n",
      "--------------------\n",
      "Epoch 9/9\n",
      "--------------------\n",
      "train Loss: 0.4020 Acc: 0.9630\n",
      "val Loss: 1.1377 Acc: 0.7566\n",
      "--------------------\n",
      "Best val Acc: 0.784020\n"
     ]
    }
   ],
   "source": [
    "model_dog_raw = model_utils.train_model(model=model_dog_raw,\n",
    "                           criterion=criterion,\n",
    "                           optimizer=optimizer_ft,\n",
    "                           scheduler=scheduler,\n",
    "                           trainloader=trainloader,\n",
    "                           valloader=valloader,\n",
    "                           num_epochs=10)"
   ]
  },
  {
   "cell_type": "code",
   "execution_count": 12,
   "metadata": {},
   "outputs": [],
   "source": [
    "saving_path = './trained_model/resnet50_breed_dog_raw.pth'\n",
    "torch.save(model_dog_raw, saving_path)"
   ]
  },
  {
   "cell_type": "code",
   "execution_count": 13,
   "metadata": {},
   "outputs": [
    {
     "name": "stdout",
     "output_type": "stream",
     "text": [
      "Overall accuracy for all breeds 80% \n",
      "\n",
      "Accuracy of american_bulldog : 77 %\n",
      "Accuracy of american_pit_bull_terrier : 37 %\n",
      "Accuracy of basset_hound : 70 %\n",
      "Accuracy of beagle : 67 %\n",
      "Accuracy of boxer : 69 %\n",
      "Accuracy of chihuahua : 82 %\n",
      "Accuracy of english_cocker_spaniel : 55 %\n",
      "Accuracy of english_setter : 77 %\n",
      "Accuracy of german_shorthaired : 82 %\n",
      "Accuracy of great_pyrenees : 90 %\n",
      "Accuracy of havanese : 67 %\n",
      "Accuracy of japanese_chin : 95 %\n",
      "Accuracy of keeshond : 84 %\n",
      "Accuracy of leonberger : 95 %\n",
      "Accuracy of miniature_pinscher : 60 %\n",
      "Accuracy of newfoundland : 72 %\n",
      "Accuracy of pomeranian : 92 %\n",
      "Accuracy of   pug : 97 %\n",
      "Accuracy of saint_bernard : 95 %\n",
      "Accuracy of samoyed : 97 %\n",
      "Accuracy of scottish_terrier : 94 %\n",
      "Accuracy of shiba_inu : 95 %\n",
      "Accuracy of staffordshire_bull_terrier : 68 %\n",
      "Accuracy of wheaten_terrier : 85 %\n",
      "Accuracy of yorkshire_terrier : 87 %\n"
     ]
    }
   ],
   "source": [
    "model_utils.print_test_acc(model_dog_raw, test_transforms, normalize, test_data_dir)"
   ]
  },
  {
   "cell_type": "code",
   "execution_count": null,
   "metadata": {},
   "outputs": [],
   "source": []
  }
 ],
 "metadata": {
  "kernelspec": {
   "display_name": "Python 3",
   "language": "python",
   "name": "python3"
  },
  "language_info": {
   "codemirror_mode": {
    "name": "ipython",
    "version": 3
   },
   "file_extension": ".py",
   "mimetype": "text/x-python",
   "name": "python",
   "nbconvert_exporter": "python",
   "pygments_lexer": "ipython3",
   "version": "3.6.8"
  }
 },
 "nbformat": 4,
 "nbformat_minor": 2
}
