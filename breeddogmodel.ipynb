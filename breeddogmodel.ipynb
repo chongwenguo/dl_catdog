{
 "cells": [
  {
   "cell_type": "code",
   "execution_count": 1,
   "metadata": {},
   "outputs": [],
   "source": [
    "%matplotlib inline"
   ]
  },
  {
   "cell_type": "code",
   "execution_count": 2,
   "metadata": {},
   "outputs": [],
   "source": [
    "import model_utils\n",
    "import torch\n",
    "import torchvision\n",
    "import torch.nn as nn\n",
    "import torch.optim as optim\n",
    "from torchvision import datasets\n",
    "from torch.optim import lr_scheduler\n",
    "import torchvision.transforms as transforms\n",
    "import numpy as np\n",
    "import matplotlib.pyplot as plt\n",
    "from torch.autograd import Variable"
   ]
  },
  {
   "cell_type": "code",
   "execution_count": 3,
   "metadata": {},
   "outputs": [],
   "source": [
    "data_dir = 'data/masked_images/data/trainval/breeds_dog/'\n",
    "test_data_dir = 'data/masked_images/data/test/breeds_dog/'\n",
    "normalize = torchvision.transforms.Normalize(mean=[0.485, 0.456, 0.406],\n",
    "                                  std=[0.229, 0.224, 0.225])\n",
    "trainloader, valloader, classes, labels = model_utils.load_split_train_val(data_dir, .25)"
   ]
  },
  {
   "cell_type": "code",
   "execution_count": 4,
   "metadata": {},
   "outputs": [],
   "source": [
    "use_gpu = torch.cuda.is_available()\n",
    "\n",
    "model_dog = torchvision.models.resnet50(pretrained=True)\n",
    "num_ftrs = model_dog.fc.in_features\n",
    "\n",
    "model_dog.fc = nn.Linear(num_ftrs, len(classes))\n",
    "\n",
    "if use_gpu:\n",
    "    model_dog = model_dog.cuda()\n",
    "\n",
    "criterion = nn.CrossEntropyLoss()\n",
    "\n",
    "optimizer_ft = optim.SGD(model_dog.parameters(), lr=0.001)\n",
    "\n",
    "scheduler = lr_scheduler.StepLR(optimizer_ft, step_size=5, gamma=0.1)"
   ]
  },
  {
   "cell_type": "code",
   "execution_count": 5,
   "metadata": {},
   "outputs": [
    {
     "name": "stdout",
     "output_type": "stream",
     "text": [
      "Epoch 0/9\n",
      "--------------------\n",
      "train Loss: 3.3058 Acc: 0.0434\n",
      "val Loss: 2.9690 Acc: 0.1974\n",
      "--------------------\n",
      "Epoch 1/9\n",
      "--------------------\n",
      "train Loss: 3.2357 Acc: 0.0548\n",
      "val Loss: 2.5664 Acc: 0.2916\n",
      "--------------------\n",
      "Epoch 2/9\n",
      "--------------------\n",
      "train Loss: 2.9978 Acc: 0.1255\n",
      "val Loss: 1.8653 Acc: 0.5351\n",
      "--------------------\n",
      "Epoch 3/9\n",
      "--------------------\n",
      "train Loss: 2.1447 Acc: 0.4464\n",
      "val Loss: 1.5012 Acc: 0.5942\n",
      "--------------------\n",
      "Epoch 4/9\n",
      "--------------------\n",
      "train Loss: 1.2590 Acc: 0.7078\n",
      "val Loss: 1.2377 Acc: 0.6443\n",
      "--------------------\n",
      "Epoch 5/9\n",
      "--------------------\n",
      "train Loss: 0.7537 Acc: 0.8865\n",
      "val Loss: 1.2092 Acc: 0.7124\n",
      "--------------------\n",
      "Epoch 6/9\n",
      "--------------------\n",
      "train Loss: 0.6554 Acc: 0.9249\n",
      "val Loss: 1.1365 Acc: 0.7786\n",
      "--------------------\n",
      "Epoch 7/9\n",
      "--------------------\n",
      "train Loss: 0.5939 Acc: 0.9329\n",
      "val Loss: 1.2045 Acc: 0.7154\n",
      "--------------------\n",
      "Epoch 8/9\n",
      "--------------------\n",
      "train Loss: 0.5406 Acc: 0.9442\n",
      "val Loss: 1.1867 Acc: 0.7285\n",
      "--------------------\n",
      "Epoch 9/9\n",
      "--------------------\n",
      "train Loss: 0.4943 Acc: 0.9543\n",
      "val Loss: 1.2439 Acc: 0.7395\n",
      "--------------------\n",
      "Best val Acc: 0.778557\n"
     ]
    }
   ],
   "source": [
    "model_dog = model_utils.train_model(model=model_dog,\n",
    "                           criterion=criterion,\n",
    "                           optimizer=optimizer_ft,\n",
    "                           scheduler=scheduler,\n",
    "                           trainloader=trainloader,\n",
    "                           valloader=valloader,\n",
    "                           num_epochs=10)"
   ]
  },
  {
   "cell_type": "code",
   "execution_count": 6,
   "metadata": {},
   "outputs": [],
   "source": [
    "saving_path = './trained_model/resnet50_breed_dog.pth'\n",
    "torch.save(model_dog, saving_path)"
   ]
  },
  {
   "cell_type": "code",
   "execution_count": 7,
   "metadata": {},
   "outputs": [
    {
     "name": "stdout",
     "output_type": "stream",
     "text": [
      "Overall accuracy for all breeds 78% \n",
      "\n",
      "Accuracy of american_bulldog : 67 %\n",
      "Accuracy of american_pit_bull_terrier : 17 %\n",
      "Accuracy of basset_hound : 70 %\n",
      "Accuracy of beagle : 47 %\n",
      "Accuracy of boxer : 76 %\n",
      "Accuracy of chihuahua : 82 %\n",
      "Accuracy of english_cocker_spaniel : 70 %\n",
      "Accuracy of english_setter : 92 %\n",
      "Accuracy of german_shorthaired : 82 %\n",
      "Accuracy of great_pyrenees : 90 %\n",
      "Accuracy of havanese : 62 %\n",
      "Accuracy of japanese_chin : 87 %\n",
      "Accuracy of keeshond : 79 %\n",
      "Accuracy of leonberger : 92 %\n",
      "Accuracy of miniature_pinscher : 57 %\n",
      "Accuracy of newfoundland : 90 %\n",
      "Accuracy of pomeranian : 95 %\n",
      "Accuracy of   pug : 94 %\n",
      "Accuracy of saint_bernard : 90 %\n",
      "Accuracy of samoyed : 95 %\n",
      "Accuracy of scottish_terrier : 94 %\n",
      "Accuracy of shiba_inu : 92 %\n",
      "Accuracy of staffordshire_bull_terrier : 62 %\n",
      "Accuracy of wheaten_terrier : 80 %\n",
      "Accuracy of yorkshire_terrier : 85 %\n"
     ]
    }
   ],
   "source": [
    "model_utils.print_test_acc(model_dog, normalize, test_data_dir)"
   ]
  },
  {
   "cell_type": "code",
   "execution_count": null,
   "metadata": {},
   "outputs": [],
   "source": []
  }
 ],
 "metadata": {
  "kernelspec": {
   "display_name": "Python 3",
   "language": "python",
   "name": "python3"
  },
  "language_info": {
   "codemirror_mode": {
    "name": "ipython",
    "version": 3
   },
   "file_extension": ".py",
   "mimetype": "text/x-python",
   "name": "python",
   "nbconvert_exporter": "python",
   "pygments_lexer": "ipython3",
   "version": "3.6.8"
  }
 },
 "nbformat": 4,
 "nbformat_minor": 2
}
