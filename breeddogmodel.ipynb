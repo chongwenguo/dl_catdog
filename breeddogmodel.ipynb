{
 "cells": [
  {
   "cell_type": "code",
   "execution_count": 1,
   "metadata": {},
   "outputs": [],
   "source": [
    "%matplotlib inline"
   ]
  },
  {
   "cell_type": "code",
   "execution_count": 2,
   "metadata": {},
   "outputs": [],
   "source": [
    "import model_utils\n",
    "import torch\n",
    "import torchvision\n",
    "import torch.nn as nn\n",
    "import torch.optim as optim\n",
    "from torchvision import datasets\n",
    "from torch.optim import lr_scheduler\n",
    "import torchvision.transforms as transforms\n",
    "import numpy as np\n",
    "import matplotlib.pyplot as plt\n",
    "from torch.autograd import Variable"
   ]
  },
  {
   "cell_type": "code",
   "execution_count": 3,
   "metadata": {},
   "outputs": [],
   "source": [
    "data_dir = 'data/masked_images/data/trainval/breeds_dog/'\n",
    "test_data_dir = 'data/masked_images/data/test/breeds_dog/'\n",
    "normalize = torchvision.transforms.Normalize(mean=[0.485, 0.456, 0.406],\n",
    "                                  std=[0.229, 0.224, 0.225])\n",
    "train_transforms = transforms.Compose([transforms.Resize(224),\n",
    "                                        transforms.CenterCrop(224),\n",
    "                                       transforms.ToTensor(),\n",
    "                                       normalize\n",
    "                                       ])\n",
    "test_transforms = transforms.Compose([transforms.Resize(224),\n",
    "                                        transforms.CenterCrop(224),\n",
    "                                       transforms.ToTensor(),\n",
    "                                       normalize\n",
    "                                       ])\n",
    "trainloader, valloader, classes, labels = model_utils.load_split_train_val(data_dir, train_transforms,test_transforms, normalize,.25)"
   ]
  },
  {
   "cell_type": "code",
   "execution_count": 4,
   "metadata": {},
   "outputs": [],
   "source": [
    "use_gpu = torch.cuda.is_available()\n",
    "\n",
    "model_dog = torchvision.models.resnet50(pretrained=True)\n",
    "num_ftrs = model_dog.fc.in_features\n",
    "\n",
    "model_dog.fc = nn.Linear(num_ftrs, len(classes))\n",
    "\n",
    "if use_gpu:\n",
    "    model_dog = model_dog.cuda()\n",
    "\n",
    "criterion = nn.CrossEntropyLoss()\n",
    "\n",
    "optimizer_ft = optim.SGD(model_dog.parameters(), lr=0.001)\n",
    "\n",
    "scheduler = lr_scheduler.StepLR(optimizer_ft, step_size=5, gamma=0.1)"
   ]
  },
  {
   "cell_type": "code",
   "execution_count": 5,
   "metadata": {},
   "outputs": [
    {
     "name": "stdout",
     "output_type": "stream",
     "text": [
      "Epoch 0/9\n",
      "--------------------\n",
      "train Loss: 3.3111 Acc: 0.0397\n",
      "val Loss: 3.0070 Acc: 0.1122\n",
      "--------------------\n",
      "Epoch 1/9\n",
      "--------------------\n",
      "train Loss: 3.2334 Acc: 0.0568\n",
      "val Loss: 2.5024 Acc: 0.3577\n",
      "--------------------\n",
      "Epoch 2/9\n",
      "--------------------\n",
      "train Loss: 3.0128 Acc: 0.1212\n",
      "val Loss: 1.8785 Acc: 0.5872\n",
      "--------------------\n",
      "Epoch 3/9\n",
      "--------------------\n",
      "train Loss: 2.2041 Acc: 0.4331\n",
      "val Loss: 1.3659 Acc: 0.6132\n",
      "--------------------\n",
      "Epoch 4/9\n",
      "--------------------\n",
      "train Loss: 1.2929 Acc: 0.6888\n",
      "val Loss: 1.1589 Acc: 0.7024\n",
      "--------------------\n",
      "Epoch 5/9\n",
      "--------------------\n",
      "train Loss: 0.7633 Acc: 0.8871\n",
      "val Loss: 1.1548 Acc: 0.7194\n",
      "--------------------\n",
      "Epoch 6/9\n",
      "--------------------\n",
      "train Loss: 0.6710 Acc: 0.9152\n",
      "val Loss: 1.1804 Acc: 0.7505\n",
      "--------------------\n",
      "Epoch 7/9\n",
      "--------------------\n",
      "train Loss: 0.6089 Acc: 0.9319\n",
      "val Loss: 1.1595 Acc: 0.7485\n",
      "--------------------\n",
      "Epoch 8/9\n",
      "--------------------\n",
      "train Loss: 0.5570 Acc: 0.9416\n",
      "val Loss: 1.2070 Acc: 0.7715\n",
      "--------------------\n",
      "Epoch 9/9\n",
      "--------------------\n",
      "train Loss: 0.5097 Acc: 0.9476\n",
      "val Loss: 1.1105 Acc: 0.7936\n",
      "--------------------\n",
      "Best val Acc: 0.793587\n"
     ]
    }
   ],
   "source": [
    "model_dog = model_utils.train_model(model=model_dog,\n",
    "                           criterion=criterion,\n",
    "                           optimizer=optimizer_ft,\n",
    "                           scheduler=scheduler,\n",
    "                           trainloader=trainloader,\n",
    "                           valloader=valloader,\n",
    "                           num_epochs=10)"
   ]
  },
  {
   "cell_type": "code",
   "execution_count": 6,
   "metadata": {},
   "outputs": [],
   "source": [
    "saving_path = './trained_model/resnet50_breed_dog.pth'\n",
    "torch.save(model_dog, saving_path)"
   ]
  },
  {
   "cell_type": "code",
   "execution_count": 7,
   "metadata": {},
   "outputs": [
    {
     "name": "stdout",
     "output_type": "stream",
     "text": [
      "Overall accuracy for all breeds 80% \n",
      "\n",
      "Accuracy of american_bulldog : 72 %\n",
      "Accuracy of american_pit_bull_terrier : 17 %\n",
      "Accuracy of basset_hound : 90 %\n",
      "Accuracy of beagle : 57 %\n",
      "Accuracy of boxer : 66 %\n",
      "Accuracy of chihuahua : 90 %\n",
      "Accuracy of english_cocker_spaniel : 67 %\n",
      "Accuracy of english_setter : 77 %\n",
      "Accuracy of german_shorthaired : 82 %\n",
      "Accuracy of great_pyrenees : 92 %\n",
      "Accuracy of havanese : 67 %\n",
      "Accuracy of japanese_chin : 92 %\n",
      "Accuracy of keeshond : 92 %\n",
      "Accuracy of leonberger : 95 %\n",
      "Accuracy of miniature_pinscher : 80 %\n",
      "Accuracy of newfoundland : 70 %\n",
      "Accuracy of pomeranian : 82 %\n",
      "Accuracy of   pug : 97 %\n",
      "Accuracy of saint_bernard : 90 %\n",
      "Accuracy of samoyed : 97 %\n",
      "Accuracy of scottish_terrier : 89 %\n",
      "Accuracy of shiba_inu : 100 %\n",
      "Accuracy of staffordshire_bull_terrier : 79 %\n",
      "Accuracy of wheaten_terrier : 90 %\n",
      "Accuracy of yorkshire_terrier : 72 %\n"
     ]
    }
   ],
   "source": [
    "model_utils.print_test_acc(model_dog, test_transforms, normalize, test_data_dir)"
   ]
  },
  {
   "cell_type": "code",
   "execution_count": null,
   "metadata": {},
   "outputs": [],
   "source": []
  }
 ],
 "metadata": {
  "kernelspec": {
   "display_name": "Python 3",
   "language": "python",
   "name": "python3"
  },
  "language_info": {
   "codemirror_mode": {
    "name": "ipython",
    "version": 3
   },
   "file_extension": ".py",
   "mimetype": "text/x-python",
   "name": "python",
   "nbconvert_exporter": "python",
   "pygments_lexer": "ipython3",
   "version": "3.6.5"
  }
 },
 "nbformat": 4,
 "nbformat_minor": 2
}
