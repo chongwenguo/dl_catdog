{
 "cells": [
  {
   "cell_type": "code",
   "execution_count": 1,
   "metadata": {},
   "outputs": [],
   "source": [
    "%matplotlib inline"
   ]
  },
  {
   "cell_type": "code",
   "execution_count": 2,
   "metadata": {},
   "outputs": [],
   "source": [
    "import model_utils\n",
    "import torch\n",
    "import torchvision\n",
    "import torch.nn as nn\n",
    "import torch.optim as optim\n",
    "from torchvision import datasets\n",
    "from torch.optim import lr_scheduler\n",
    "import torchvision.transforms as transforms\n",
    "import numpy as np\n",
    "import matplotlib.pyplot as plt\n",
    "from torch.autograd import Variable"
   ]
  },
  {
   "cell_type": "code",
   "execution_count": 3,
   "metadata": {},
   "outputs": [],
   "source": [
    "data_dir = 'data/masked_images/data/trainval/species/'\n",
    "test_data_dir = 'data/masked_images/data/test/species/'\n",
    "normalize = torchvision.transforms.Normalize(mean=[0.485, 0.456, 0.406],\n",
    "                                  std=[0.229, 0.224, 0.225])\n",
    "train_transforms = transforms.Compose([transforms.Resize(224),\n",
    "                                        transforms.CenterCrop(224),\n",
    "                                       transforms.ToTensor(),\n",
    "                                       normalize\n",
    "                                       ])\n",
    "test_transforms = transforms.Compose([transforms.Resize(224),\n",
    "                                        transforms.CenterCrop(224),\n",
    "                                       transforms.ToTensor(),\n",
    "                                       normalize\n",
    "                                       ])\n",
    "trainloader, valloader, classes, labels = model_utils.load_split_train_val(data_dir, train_transforms, test_transforms, normalize,.25)"
   ]
  },
  {
   "cell_type": "code",
   "execution_count": 4,
   "metadata": {},
   "outputs": [],
   "source": [
    "use_gpu = torch.cuda.is_available()\n",
    "\n",
    "model_species = torchvision.models.resnet50(pretrained=True)\n",
    "num_ftrs = model_species.fc.in_features\n",
    "\n",
    "model_species.fc = nn.Linear(num_ftrs, len(classes))\n",
    "\n",
    "if use_gpu:\n",
    "    model_species = model_species.cuda()\n",
    "\n",
    "criterion = nn.CrossEntropyLoss()\n",
    "\n",
    "optimizer_ft = optim.SGD(model_species.parameters(), lr=0.001)\n",
    "\n",
    "scheduler = lr_scheduler.StepLR(optimizer_ft, step_size=5, gamma=0.1)"
   ]
  },
  {
   "cell_type": "code",
   "execution_count": 6,
   "metadata": {},
   "outputs": [
    {
     "name": "stdout",
     "output_type": "stream",
     "text": [
      "Epoch 0/4\n",
      "--------------------\n",
      "train Loss: 0.4299 Acc: 0.7969\n",
      "val Loss: 0.2394 Acc: 0.9166\n",
      "--------------------\n",
      "Epoch 1/4\n",
      "--------------------\n",
      "train Loss: 0.0685 Acc: 0.9826\n",
      "val Loss: 0.0503 Acc: 0.9790\n",
      "--------------------\n",
      "Epoch 2/4\n",
      "--------------------\n",
      "train Loss: 0.0245 Acc: 0.9939\n",
      "val Loss: 0.3072 Acc: 0.9098\n",
      "--------------------\n",
      "Epoch 3/4\n",
      "--------------------\n",
      "train Loss: 0.0141 Acc: 0.9959\n",
      "val Loss: 0.6417 Acc: 0.8610\n",
      "--------------------\n",
      "Epoch 4/4\n",
      "--------------------\n",
      "train Loss: 0.0067 Acc: 0.9991\n",
      "val Loss: 0.4179 Acc: 0.9024\n",
      "--------------------\n",
      "Best val Acc: 0.978983\n"
     ]
    }
   ],
   "source": [
    "model_species = model_utils.train_model(model=model_species,\n",
    "                           criterion=criterion,\n",
    "                           optimizer=optimizer_ft,\n",
    "                           scheduler=scheduler,\n",
    "                           trainloader=trainloader,\n",
    "                           valloader=valloader,\n",
    "                           num_epochs=5)"
   ]
  },
  {
   "cell_type": "code",
   "execution_count": 7,
   "metadata": {},
   "outputs": [],
   "source": [
    "saving_path = './trained_model/resnet50_species.pth'\n",
    "torch.save(model_species, saving_path)"
   ]
  },
  {
   "cell_type": "code",
   "execution_count": 8,
   "metadata": {},
   "outputs": [
    {
     "name": "stdout",
     "output_type": "stream",
     "text": [
      "Overall accuracy for all breeds 90% \n",
      "\n",
      "Accuracy of   cat : 100 %\n",
      "Accuracy of   dog : 85 %\n"
     ]
    }
   ],
   "source": [
    "model_utils.print_test_acc(model_species, test_transforms, normalize, test_data_dir)"
   ]
  },
  {
   "cell_type": "code",
   "execution_count": null,
   "metadata": {},
   "outputs": [],
   "source": []
  }
 ],
 "metadata": {
  "kernelspec": {
   "display_name": "Python 3",
   "language": "python",
   "name": "python3"
  },
  "language_info": {
   "codemirror_mode": {
    "name": "ipython",
    "version": 3
   },
   "file_extension": ".py",
   "mimetype": "text/x-python",
   "name": "python",
   "nbconvert_exporter": "python",
   "pygments_lexer": "ipython3",
   "version": "3.6.8"
  }
 },
 "nbformat": 4,
 "nbformat_minor": 2
}
