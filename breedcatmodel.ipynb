{
 "cells": [
  {
   "cell_type": "code",
   "execution_count": 1,
   "metadata": {},
   "outputs": [],
   "source": [
    "%matplotlib inline"
   ]
  },
  {
   "cell_type": "code",
   "execution_count": 2,
   "metadata": {},
   "outputs": [],
   "source": [
    "import model_utils\n",
    "import torch\n",
    "import torchvision\n",
    "import torch.nn as nn\n",
    "import torch.optim as optim\n",
    "from torchvision import datasets\n",
    "from torch.optim import lr_scheduler\n",
    "import torchvision.transforms as transforms\n",
    "import numpy as np\n",
    "import matplotlib.pyplot as plt\n",
    "from torch.autograd import Variable"
   ]
  },
  {
   "cell_type": "code",
   "execution_count": 3,
   "metadata": {},
   "outputs": [],
   "source": [
    "data_dir = 'data/masked_images/data/trainval/breeds_cat/'\n",
    "test_data_dir = 'data/masked_images/data/test/breeds_cat/'\n",
    "normalize = torchvision.transforms.Normalize(mean=[0.485, 0.456, 0.406],\n",
    "                                  std=[0.229, 0.224, 0.225])\n",
    "train_transforms = transforms.Compose([transforms.Resize((224, 224)),\n",
    "                                        #transforms.CenterCrop(224),\n",
    "                                       transforms.ToTensor(),\n",
    "                                       normalize\n",
    "                                       ])\n",
    "test_transforms = transforms.Compose([transforms.Resize((224, 224)),\n",
    "                                        #transforms.CenterCrop(224),\n",
    "                                       transforms.ToTensor(),\n",
    "                                       normalize\n",
    "                                       ])\n",
    "trainloader, valloader, classes, len_train_data, len_val_data = model_utils.load_data('breeds_cat', train_transforms, test_transforms, 1)\n",
    "#trainloader, valloader, classes, labels = model_utils.load_split_train_val(data_dir, train_transforms, test_transforms, normalize, .25)"
   ]
  },
  {
   "cell_type": "code",
   "execution_count": 4,
   "metadata": {},
   "outputs": [],
   "source": [
    "use_gpu = torch.cuda.is_available()\n",
    "\n",
    "model_cat = torchvision.models.resnet50(pretrained=True)\n",
    "num_ftrs = model_cat.fc.in_features\n",
    "\n",
    "model_cat.fc = nn.Linear(num_ftrs, len(classes))\n",
    "\n",
    "if use_gpu:\n",
    "    model_cat = model_cat.cuda()\n",
    "\n",
    "criterion = nn.CrossEntropyLoss()\n",
    "\n",
    "optimizer_ft = optim.SGD(model_cat.parameters(), lr=0.001)\n",
    "\n",
    "scheduler = lr_scheduler.StepLR(optimizer_ft, step_size=5, gamma=0.1)"
   ]
  },
  {
   "cell_type": "code",
   "execution_count": 5,
   "metadata": {},
   "outputs": [
    {
     "name": "stdout",
     "output_type": "stream",
     "text": [
      "Epoch 0/14\n",
      "--------------------\n",
      "train Loss: 2.5616 Acc: 0.0892\n",
      "val Loss: 2.5089 Acc: 0.0888\n",
      "--------------------\n",
      "Epoch 1/14\n",
      "--------------------\n",
      "train Loss: 2.5144 Acc: 0.1043\n",
      "val Loss: 2.2139 Acc: 0.2872\n",
      "--------------------\n",
      "Epoch 2/14\n",
      "--------------------\n",
      "train Loss: 2.4363 Acc: 0.1430\n",
      "val Loss: 2.0350 Acc: 0.3499\n",
      "--------------------\n",
      "Epoch 3/14\n",
      "--------------------\n",
      "train Loss: 2.2883 Acc: 0.1974\n",
      "val Loss: 1.7552 Acc: 0.5196\n",
      "--------------------\n",
      "Epoch 4/14\n",
      "--------------------\n",
      "train Loss: 1.9654 Acc: 0.3010\n",
      "val Loss: 1.4299 Acc: 0.6162\n",
      "--------------------\n",
      "Epoch 5/14\n",
      "--------------------\n",
      "train Loss: 1.6253 Acc: 0.6085\n",
      "val Loss: 1.4266 Acc: 0.6580\n",
      "--------------------\n",
      "Epoch 6/14\n",
      "--------------------\n",
      "train Loss: 1.5622 Acc: 0.6734\n",
      "val Loss: 1.3553 Acc: 0.6501\n",
      "--------------------\n",
      "Epoch 7/14\n",
      "--------------------\n",
      "train Loss: 1.5039 Acc: 0.6669\n",
      "val Loss: 1.3458 Acc: 0.6789\n",
      "--------------------\n",
      "Epoch 8/14\n",
      "--------------------\n",
      "train Loss: 1.4470 Acc: 0.7108\n",
      "val Loss: 1.3495 Acc: 0.6606\n",
      "--------------------\n",
      "Epoch 9/14\n",
      "--------------------\n",
      "train Loss: 1.3898 Acc: 0.7193\n",
      "val Loss: 1.3158 Acc: 0.6554\n",
      "--------------------\n",
      "Epoch 10/14\n",
      "--------------------\n",
      "train Loss: 1.3448 Acc: 0.7790\n",
      "val Loss: 1.3071 Acc: 0.6632\n",
      "--------------------\n",
      "Epoch 11/14\n",
      "--------------------\n",
      "train Loss: 1.3373 Acc: 0.7725\n",
      "val Loss: 1.2916 Acc: 0.6736\n",
      "--------------------\n",
      "Epoch 12/14\n",
      "--------------------\n",
      "train Loss: 1.3308 Acc: 0.7652\n",
      "val Loss: 1.2984 Acc: 0.6188\n",
      "--------------------\n",
      "Epoch 13/14\n",
      "--------------------\n",
      "train Loss: 1.3245 Acc: 0.7738\n",
      "val Loss: 1.2962 Acc: 0.6554\n",
      "--------------------\n",
      "Epoch 14/14\n",
      "--------------------\n",
      "train Loss: 1.3181 Acc: 0.7764\n",
      "val Loss: 1.3371 Acc: 0.6606\n",
      "--------------------\n",
      "Best val Acc: 0.678851\n"
     ]
    }
   ],
   "source": [
    "model_cat = model_utils.train_model(model=model_cat,\n",
    "                           criterion=criterion,\n",
    "                           optimizer=optimizer_ft,\n",
    "                           scheduler=scheduler,\n",
    "                           trainloader=trainloader,\n",
    "                           valloader=valloader,\n",
    "                           num_epochs=15)"
   ]
  },
  {
   "cell_type": "code",
   "execution_count": 7,
   "metadata": {},
   "outputs": [],
   "source": [
    "saving_path = './trained_model/resnet50_breed_cat.pth'\n",
    "torch.save(model_cat, saving_path)"
   ]
  },
  {
   "cell_type": "code",
   "execution_count": 6,
   "metadata": {},
   "outputs": [
    {
     "name": "stdout",
     "output_type": "stream",
     "text": [
      "Overall accuracy for all breeds 63% \n",
      "\n",
      "Accuracy of Abyssinian : 47 %\n",
      "Accuracy of Bengal : 75 %\n",
      "Accuracy of Birman : 87 %\n",
      "Accuracy of Bombay : 78 %\n",
      "Accuracy of British_Shorthair : 75 %\n",
      "Accuracy of Egyptian_Mau :  0 %\n",
      "Accuracy of Maine_Coon : 67 %\n",
      "Accuracy of Persian : 77 %\n",
      "Accuracy of Ragdoll : 27 %\n",
      "Accuracy of Russian_Blue : 42 %\n",
      "Accuracy of Siamese : 82 %\n",
      "Accuracy of Sphynx : 97 %\n"
     ]
    }
   ],
   "source": [
    "model_utils.print_test_acc(model_cat, test_transforms, normalize, test_data_dir)"
   ]
  },
  {
   "cell_type": "code",
   "execution_count": 15,
   "metadata": {},
   "outputs": [],
   "source": [
    "data_dir = 'data/trainval/breeds_cat/'\n",
    "test_data_dir = './data/test/breeds_cat/'\n",
    "trainloader, valloader, classes, len_train_data, len_val_data = model_utils.load_data('breeds_cat', train_transforms, test_transforms, 1)"
   ]
  },
  {
   "cell_type": "code",
   "execution_count": 11,
   "metadata": {},
   "outputs": [
    {
     "name": "stdout",
     "output_type": "stream",
     "text": [
      "Epoch 0/14\n",
      "--------------------\n",
      "train Loss: 2.5723 Acc: 0.0964\n",
      "val Loss: 2.4867 Acc: 0.0836\n",
      "--------------------\n",
      "Epoch 1/14\n",
      "--------------------\n",
      "train Loss: 2.5050 Acc: 0.1226\n",
      "val Loss: 2.2899 Acc: 0.2324\n",
      "--------------------\n",
      "Epoch 2/14\n",
      "--------------------\n",
      "train Loss: 2.4581 Acc: 0.1344\n",
      "val Loss: 2.1286 Acc: 0.2742\n",
      "--------------------\n",
      "Epoch 3/14\n",
      "--------------------\n",
      "train Loss: 2.3609 Acc: 0.1626\n",
      "val Loss: 1.8544 Acc: 0.3316\n",
      "--------------------\n",
      "Epoch 4/14\n",
      "--------------------\n",
      "train Loss: 2.1346 Acc: 0.2485\n",
      "val Loss: 1.6414 Acc: 0.4073\n",
      "--------------------\n",
      "Epoch 5/14\n",
      "--------------------\n",
      "train Loss: 1.8480 Acc: 0.5121\n",
      "val Loss: 1.5084 Acc: 0.5405\n",
      "--------------------\n",
      "Epoch 6/14\n",
      "--------------------\n",
      "train Loss: 1.7934 Acc: 0.5364\n",
      "val Loss: 1.4985 Acc: 0.5561\n",
      "--------------------\n",
      "Epoch 7/14\n",
      "--------------------\n",
      "train Loss: 1.7490 Acc: 0.5725\n",
      "val Loss: 1.4642 Acc: 0.5849\n",
      "--------------------\n",
      "Epoch 8/14\n",
      "--------------------\n",
      "train Loss: 1.7062 Acc: 0.6295\n",
      "val Loss: 1.4368 Acc: 0.5953\n",
      "--------------------\n",
      "Epoch 9/14\n",
      "--------------------\n",
      "train Loss: 1.6619 Acc: 0.6249\n",
      "val Loss: 1.3939 Acc: 0.6501\n",
      "--------------------\n",
      "Epoch 10/14\n",
      "--------------------\n",
      "train Loss: 1.6273 Acc: 0.7495\n",
      "val Loss: 1.3789 Acc: 0.6319\n",
      "--------------------\n",
      "Epoch 11/14\n",
      "--------------------\n",
      "train Loss: 1.6206 Acc: 0.7292\n",
      "val Loss: 1.3914 Acc: 0.5822\n",
      "--------------------\n",
      "Epoch 12/14\n",
      "--------------------\n",
      "train Loss: 1.6150 Acc: 0.7220\n",
      "val Loss: 1.3963 Acc: 0.6005\n",
      "--------------------\n",
      "Epoch 13/14\n",
      "--------------------\n",
      "train Loss: 1.6100 Acc: 0.7161\n",
      "val Loss: 1.3756 Acc: 0.5901\n",
      "--------------------\n",
      "Epoch 14/14\n",
      "--------------------\n",
      "train Loss: 1.6052 Acc: 0.7259\n",
      "val Loss: 1.3653 Acc: 0.6057\n",
      "--------------------\n",
      "Best val Acc: 0.650131\n"
     ]
    }
   ],
   "source": [
    "model_cat_raw = torchvision.models.resnet50(pretrained=True)\n",
    "num_ftrs = model_cat_raw.fc.in_features\n",
    "\n",
    "model_cat_raw.fc = nn.Linear(num_ftrs, len(classes))\n",
    "\n",
    "if use_gpu:\n",
    "    model_cat_raw = model_cat_raw.cuda()\n",
    "\n",
    "criterion = nn.CrossEntropyLoss()\n",
    "\n",
    "optimizer_ft = optim.SGD(model_cat_raw.parameters(), lr=0.001)\n",
    "\n",
    "scheduler = lr_scheduler.StepLR(optimizer_ft, step_size=5, gamma=0.1)\n",
    "\n",
    "model_cat_raw = model_utils.train_model(model=model_cat_raw,\n",
    "                           criterion=criterion,\n",
    "                           optimizer=optimizer_ft,\n",
    "                           scheduler=scheduler,\n",
    "                           trainloader=trainloader,\n",
    "                           valloader=valloader,\n",
    "                           num_epochs=15)"
   ]
  },
  {
   "cell_type": "code",
   "execution_count": 12,
   "metadata": {},
   "outputs": [],
   "source": [
    "saving_path = './trained_model/resnet50_breed_cat_raw.pth'\n",
    "torch.save(model_cat_raw, saving_path)"
   ]
  },
  {
   "cell_type": "code",
   "execution_count": 16,
   "metadata": {},
   "outputs": [
    {
     "name": "stdout",
     "output_type": "stream",
     "text": [
      "Overall accuracy for all breeds 55% \n",
      "\n",
      "Accuracy of Abyssinian : 36 %\n",
      "Accuracy of Bengal : 55 %\n",
      "Accuracy of Birman : 92 %\n",
      "Accuracy of Bombay : 64 %\n",
      "Accuracy of British_Shorthair : 87 %\n",
      "Accuracy of Egyptian_Mau :  0 %\n",
      "Accuracy of Maine_Coon : 62 %\n",
      "Accuracy of Persian : 90 %\n",
      "Accuracy of Ragdoll : 30 %\n",
      "Accuracy of Russian_Blue :  2 %\n",
      "Accuracy of Siamese : 60 %\n",
      "Accuracy of Sphynx : 80 %\n"
     ]
    }
   ],
   "source": [
    "model_utils.print_test_acc(model_cat_raw, test_transforms, normalize, test_data_dir)"
   ]
  },
  {
   "cell_type": "code",
   "execution_count": null,
   "metadata": {},
   "outputs": [],
   "source": []
  }
 ],
 "metadata": {
  "kernelspec": {
   "display_name": "Python 3",
   "language": "python",
   "name": "python3"
  },
  "language_info": {
   "codemirror_mode": {
    "name": "ipython",
    "version": 3
   },
   "file_extension": ".py",
   "mimetype": "text/x-python",
   "name": "python",
   "nbconvert_exporter": "python",
   "pygments_lexer": "ipython3",
   "version": "3.6.8"
  }
 },
 "nbformat": 4,
 "nbformat_minor": 2
}
