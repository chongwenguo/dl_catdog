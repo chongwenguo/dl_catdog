{
 "cells": [
  {
   "cell_type": "code",
   "execution_count": 1,
   "metadata": {},
   "outputs": [],
   "source": [
    "%matplotlib inline"
   ]
  },
  {
   "cell_type": "code",
   "execution_count": 2,
   "metadata": {},
   "outputs": [],
   "source": [
    "import model_utils\n",
    "import torch\n",
    "import torchvision\n",
    "import torch.nn as nn\n",
    "import torch.optim as optim\n",
    "from torchvision import datasets\n",
    "from torch.optim import lr_scheduler\n",
    "import torchvision.transforms as transforms\n",
    "import numpy as np\n",
    "import matplotlib.pyplot as plt\n",
    "from torch.autograd import Variable"
   ]
  },
  {
   "cell_type": "code",
   "execution_count": 3,
   "metadata": {},
   "outputs": [],
   "source": [
    "data_dir = 'data/masked_images/data/trainval/breeds_cat/'\n",
    "test_data_dir = 'data/masked_images/data/test/breeds_cat/'\n",
    "normalize = torchvision.transforms.Normalize(mean=[0.485, 0.456, 0.406],\n",
    "                                  std=[0.229, 0.224, 0.225])\n",
    "train_transforms = transforms.Compose([transforms.Resize(224),\n",
    "                                        #transforms.CenterCrop(224),\n",
    "                                       transforms.ToTensor(),\n",
    "                                       normalize\n",
    "                                       ])\n",
    "test_transforms = transforms.Compose([transforms.Resize(224),\n",
    "                                        #transforms.CenterCrop(224),\n",
    "                                       transforms.ToTensor(),\n",
    "                                       normalize\n",
    "                                       ])\n",
    "trainloader, valloader, classes, labels = model_utils.load_split_train_val(data_dir, train_transforms, test_transforms, normalize, .25)"
   ]
  },
  {
   "cell_type": "code",
   "execution_count": 4,
   "metadata": {},
   "outputs": [],
   "source": [
    "use_gpu = torch.cuda.is_available()\n",
    "\n",
    "model_cat = torchvision.models.resnet50(pretrained=True)\n",
    "num_ftrs = model_cat.fc.in_features\n",
    "\n",
    "model_cat.fc = nn.Linear(num_ftrs, len(classes))\n",
    "\n",
    "if use_gpu:\n",
    "    model_cat = model_cat.cuda()\n",
    "\n",
    "criterion = nn.CrossEntropyLoss()\n",
    "\n",
    "optimizer_ft = optim.SGD(model_cat.parameters(), lr=0.001)\n",
    "\n",
    "scheduler = lr_scheduler.StepLR(optimizer_ft, step_size=5, gamma=0.1)"
   ]
  },
  {
   "cell_type": "code",
   "execution_count": 5,
   "metadata": {},
   "outputs": [
    {
     "name": "stdout",
     "output_type": "stream",
     "text": [
      "Epoch 0/14\n",
      "--------------------\n",
      "train Loss: 2.5621 Acc: 0.0985\n",
      "val Loss: 2.5641 Acc: 0.0985\n",
      "--------------------\n",
      "Epoch 1/14\n",
      "--------------------\n",
      "train Loss: 2.5318 Acc: 0.1076\n",
      "val Loss: 2.3625 Acc: 0.1174\n",
      "--------------------\n",
      "Epoch 2/14\n",
      "--------------------\n",
      "train Loss: 2.4686 Acc: 0.1349\n",
      "val Loss: 2.1779 Acc: 0.2096\n",
      "--------------------\n",
      "Epoch 3/14\n",
      "--------------------\n",
      "train Loss: 2.3797 Acc: 0.1670\n",
      "val Loss: 1.9810 Acc: 0.4193\n",
      "--------------------\n",
      "Epoch 4/14\n",
      "--------------------\n",
      "train Loss: 2.1589 Acc: 0.2425\n",
      "val Loss: 1.6794 Acc: 0.5136\n",
      "--------------------\n",
      "Epoch 5/14\n",
      "--------------------\n",
      "train Loss: 1.8880 Acc: 0.5017\n",
      "val Loss: 1.6180 Acc: 0.5577\n",
      "--------------------\n",
      "Epoch 6/14\n",
      "--------------------\n",
      "train Loss: 1.8372 Acc: 0.5325\n",
      "val Loss: 1.5541 Acc: 0.6184\n",
      "--------------------\n",
      "Epoch 7/14\n",
      "--------------------\n",
      "train Loss: 1.7960 Acc: 0.5563\n",
      "val Loss: 1.5277 Acc: 0.6876\n",
      "--------------------\n",
      "Epoch 8/14\n",
      "--------------------\n",
      "train Loss: 1.7551 Acc: 0.5828\n",
      "val Loss: 1.5317 Acc: 0.5828\n",
      "--------------------\n",
      "Epoch 9/14\n",
      "--------------------\n",
      "train Loss: 1.7124 Acc: 0.5835\n",
      "val Loss: 1.5043 Acc: 0.6771\n",
      "--------------------\n",
      "Epoch 10/14\n",
      "--------------------\n",
      "train Loss: 1.6813 Acc: 0.6576\n",
      "val Loss: 1.4951 Acc: 0.6478\n",
      "--------------------\n",
      "Epoch 11/14\n",
      "--------------------\n",
      "train Loss: 1.6756 Acc: 0.6723\n",
      "val Loss: 1.4903 Acc: 0.6436\n",
      "--------------------\n",
      "Epoch 12/14\n",
      "--------------------\n",
      "train Loss: 1.6706 Acc: 0.6841\n",
      "val Loss: 1.4958 Acc: 0.6667\n",
      "--------------------\n",
      "Epoch 13/14\n",
      "--------------------\n",
      "train Loss: 1.6660 Acc: 0.7030\n",
      "val Loss: 1.4986 Acc: 0.6310\n",
      "--------------------\n",
      "Epoch 14/14\n",
      "--------------------\n",
      "train Loss: 1.6616 Acc: 0.6981\n",
      "val Loss: 1.4678 Acc: 0.6310\n",
      "--------------------\n",
      "Best val Acc: 0.687631\n"
     ]
    }
   ],
   "source": [
    "model_cat = model_utils.train_model(model=model_cat,\n",
    "                           criterion=criterion,\n",
    "                           optimizer=optimizer_ft,\n",
    "                           scheduler=scheduler,\n",
    "                           trainloader=trainloader,\n",
    "                           valloader=valloader,\n",
    "                           num_epochs=15)"
   ]
  },
  {
   "cell_type": "code",
   "execution_count": 6,
   "metadata": {},
   "outputs": [],
   "source": [
    "saving_path = './trained_model/resnet50_breed_cat.pth'\n",
    "torch.save(model_cat, saving_path)"
   ]
  },
  {
   "cell_type": "code",
   "execution_count": 7,
   "metadata": {},
   "outputs": [
    {
     "name": "stdout",
     "output_type": "stream",
     "text": [
      "Overall accuracy for all breeds 53% \n",
      "\n",
      "Accuracy of Abyssinian : 50 %\n",
      "Accuracy of Bengal : 52 %\n",
      "Accuracy of Birman : 72 %\n",
      "Accuracy of Bombay : 89 %\n",
      "Accuracy of British_Shorthair : 65 %\n",
      "Accuracy of Egyptian_Mau :  0 %\n",
      "Accuracy of Maine_Coon : 60 %\n",
      "Accuracy of Persian : 80 %\n",
      "Accuracy of Ragdoll : 32 %\n",
      "Accuracy of Russian_Blue :  5 %\n",
      "Accuracy of Siamese : 62 %\n",
      "Accuracy of Sphynx : 82 %\n"
     ]
    }
   ],
   "source": [
    "model_utils.print_test_acc(model_cat, test_transforms, normalize, test_data_dir)"
   ]
  },
  {
   "cell_type": "code",
   "execution_count": null,
   "metadata": {},
   "outputs": [],
   "source": []
  }
 ],
 "metadata": {
  "kernelspec": {
   "display_name": "Python 3",
   "language": "python",
   "name": "python3"
  },
  "language_info": {
   "codemirror_mode": {
    "name": "ipython",
    "version": 3
   },
   "file_extension": ".py",
   "mimetype": "text/x-python",
   "name": "python",
   "nbconvert_exporter": "python",
   "pygments_lexer": "ipython3",
   "version": "3.6.8"
  }
 },
 "nbformat": 4,
 "nbformat_minor": 2
}
