{
 "cells": [
  {
   "cell_type": "code",
   "execution_count": 1,
   "metadata": {},
   "outputs": [],
   "source": [
    "%matplotlib inline"
   ]
  },
  {
   "cell_type": "code",
   "execution_count": 2,
   "metadata": {},
   "outputs": [],
   "source": [
    "import model_utils\n",
    "import torch\n",
    "import torchvision\n",
    "import torch.nn as nn\n",
    "import torch.optim as optim\n",
    "from torchvision import datasets\n",
    "from torch.optim import lr_scheduler\n",
    "import torchvision.transforms as transforms\n",
    "import numpy as np\n",
    "import matplotlib.pyplot as plt\n",
    "from torch.autograd import Variable"
   ]
  },
  {
   "cell_type": "code",
   "execution_count": 3,
   "metadata": {},
   "outputs": [],
   "source": [
    "data_dir = 'data/masked_images/data/trainval/breeds_cat/'\n",
    "test_data_dir = 'data/masked_images/data/test/breeds_cat/'\n",
    "normalize = torchvision.transforms.Normalize(mean=[0.485, 0.456, 0.406],\n",
    "                                  std=[0.229, 0.224, 0.225])\n",
    "train_transforms = transforms.Compose([transforms.Resize((224, 224)),\n",
    "                                        #transforms.CenterCrop(224),\n",
    "                                       transforms.ToTensor(),\n",
    "                                       normalize\n",
    "                                       ])\n",
    "test_transforms = transforms.Compose([transforms.Resize((224, 224)),\n",
    "                                        #transforms.CenterCrop(224),\n",
    "                                       transforms.ToTensor(),\n",
    "                                       normalize\n",
    "                                       ])\n",
    "trainloader, valloader, classes = model_utils.load_data('breeds_cat', train_transforms, test_transforms, 1)\n",
    "#trainloader, valloader, classes, labels = model_utils.load_split_train_val(data_dir, train_transforms, test_transforms, normalize, .25)"
   ]
  },
  {
   "cell_type": "code",
   "execution_count": 4,
   "metadata": {},
   "outputs": [],
   "source": [
    "use_gpu = torch.cuda.is_available()\n",
    "\n",
    "model_cat = torchvision.models.resnet50(pretrained=True)\n",
    "num_ftrs = model_cat.fc.in_features\n",
    "\n",
    "model_cat.fc = nn.Linear(num_ftrs, len(classes))\n",
    "\n",
    "if use_gpu:\n",
    "    model_cat = model_cat.cuda()\n",
    "\n",
    "criterion = nn.CrossEntropyLoss()\n",
    "\n",
    "optimizer_ft = optim.SGD(model_cat.parameters(), lr=0.001)\n",
    "\n",
    "scheduler = lr_scheduler.StepLR(optimizer_ft, step_size=5, gamma=0.1)"
   ]
  },
  {
   "cell_type": "code",
   "execution_count": 5,
   "metadata": {},
   "outputs": [
    {
     "name": "stdout",
     "output_type": "stream",
     "text": [
      "Epoch 0/14\n",
      "--------------------\n",
      "train Loss: 2.5730 Acc: 0.0852\n",
      "val Loss: 2.4725 Acc: 0.1332\n",
      "--------------------\n",
      "Epoch 1/14\n",
      "--------------------\n",
      "train Loss: 2.5233 Acc: 0.0984\n",
      "val Loss: 2.3047 Acc: 0.2272\n",
      "--------------------\n",
      "Epoch 2/14\n",
      "--------------------\n",
      "train Loss: 2.4541 Acc: 0.1298\n",
      "val Loss: 2.2238 Acc: 0.1749\n",
      "--------------------\n",
      "Epoch 3/14\n",
      "--------------------\n",
      "train Loss: 2.3582 Acc: 0.1672\n",
      "val Loss: 1.8926 Acc: 0.4621\n",
      "--------------------\n",
      "Epoch 4/14\n",
      "--------------------\n",
      "train Loss: 2.1568 Acc: 0.2577\n",
      "val Loss: 1.6939 Acc: 0.3995\n",
      "--------------------\n",
      "Epoch 5/14\n",
      "--------------------\n",
      "train Loss: 1.8706 Acc: 0.4472\n",
      "val Loss: 1.6220 Acc: 0.6005\n",
      "--------------------\n",
      "Epoch 6/14\n",
      "--------------------\n",
      "train Loss: 1.8219 Acc: 0.5462\n",
      "val Loss: 1.5952 Acc: 0.5875\n",
      "--------------------\n",
      "Epoch 7/14\n",
      "--------------------\n",
      "train Loss: 1.7828 Acc: 0.5495\n",
      "val Loss: 1.5977 Acc: 0.5822\n",
      "--------------------\n",
      "Epoch 8/14\n",
      "--------------------\n",
      "train Loss: 1.7406 Acc: 0.5705\n",
      "val Loss: 1.5314 Acc: 0.5849\n",
      "--------------------\n",
      "Epoch 9/14\n",
      "--------------------\n",
      "train Loss: 1.6993 Acc: 0.5889\n",
      "val Loss: 1.4864 Acc: 0.5901\n",
      "--------------------\n",
      "Epoch 10/14\n",
      "--------------------\n",
      "train Loss: 1.6678 Acc: 0.6630\n",
      "val Loss: 1.4746 Acc: 0.6292\n",
      "--------------------\n",
      "Epoch 11/14\n",
      "--------------------\n",
      "train Loss: 1.6618 Acc: 0.6321\n",
      "val Loss: 1.4641 Acc: 0.6057\n",
      "--------------------\n",
      "Epoch 12/14\n",
      "--------------------\n",
      "train Loss: 1.6571 Acc: 0.6616\n",
      "val Loss: 1.4911 Acc: 0.6005\n",
      "--------------------\n",
      "Epoch 13/14\n",
      "--------------------\n",
      "train Loss: 1.6526 Acc: 0.6472\n",
      "val Loss: 1.4923 Acc: 0.6005\n",
      "--------------------\n",
      "Epoch 14/14\n",
      "--------------------\n",
      "train Loss: 1.6484 Acc: 0.6551\n",
      "val Loss: 1.5220 Acc: 0.5875\n",
      "--------------------\n",
      "Best val Acc: 0.629243\n"
     ]
    }
   ],
   "source": [
    "model_cat = model_utils.train_model(model=model_cat,\n",
    "                           criterion=criterion,\n",
    "                           optimizer=optimizer_ft,\n",
    "                           scheduler=scheduler,\n",
    "                           trainloader=trainloader,\n",
    "                           valloader=valloader,\n",
    "                           num_epochs=15)"
   ]
  },
  {
   "cell_type": "code",
   "execution_count": 8,
   "metadata": {},
   "outputs": [],
   "source": [
    "saving_path = './trained_model/resnet50_breed_cat.pth'\n",
    "torch.save(model_cat, saving_path)"
   ]
  },
  {
   "cell_type": "code",
   "execution_count": 9,
   "metadata": {},
   "outputs": [
    {
     "name": "stdout",
     "output_type": "stream",
     "text": [
      "Overall accuracy for all breeds 52% \n",
      "\n",
      "Accuracy of Abyssinian : 34 %\n",
      "Accuracy of Bengal : 70 %\n",
      "Accuracy of Birman : 65 %\n",
      "Accuracy of Bombay : 92 %\n",
      "Accuracy of British_Shorthair : 82 %\n",
      "Accuracy of Egyptian_Mau :  0 %\n",
      "Accuracy of Maine_Coon : 30 %\n",
      "Accuracy of Persian : 77 %\n",
      "Accuracy of Ragdoll : 10 %\n",
      "Accuracy of Russian_Blue :  0 %\n",
      "Accuracy of Siamese : 80 %\n",
      "Accuracy of Sphynx : 92 %\n"
     ]
    }
   ],
   "source": [
    "model_utils.print_test_acc(model_cat, test_transforms, normalize, test_data_dir)"
   ]
  },
  {
   "cell_type": "code",
   "execution_count": null,
   "metadata": {},
   "outputs": [],
   "source": []
  }
 ],
 "metadata": {
  "kernelspec": {
   "display_name": "Python 3",
   "language": "python",
   "name": "python3"
  },
  "language_info": {
   "codemirror_mode": {
    "name": "ipython",
    "version": 3
   },
   "file_extension": ".py",
   "mimetype": "text/x-python",
   "name": "python",
   "nbconvert_exporter": "python",
   "pygments_lexer": "ipython3",
   "version": "3.6.5"
  }
 },
 "nbformat": 4,
 "nbformat_minor": 2
}
