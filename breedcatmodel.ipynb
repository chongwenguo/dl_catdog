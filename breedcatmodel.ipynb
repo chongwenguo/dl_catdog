{
 "cells": [
  {
   "cell_type": "code",
   "execution_count": 1,
   "metadata": {},
   "outputs": [],
   "source": [
    "%matplotlib inline"
   ]
  },
  {
   "cell_type": "code",
   "execution_count": 2,
   "metadata": {},
   "outputs": [],
   "source": [
    "import model_utils\n",
    "import torch\n",
    "import torchvision\n",
    "import torch.nn as nn\n",
    "import torch.optim as optim\n",
    "from torchvision import datasets\n",
    "from torch.optim import lr_scheduler\n",
    "import torchvision.transforms as transforms\n",
    "import numpy as np\n",
    "import matplotlib.pyplot as plt\n",
    "from torch.autograd import Variable"
   ]
  },
  {
   "cell_type": "code",
   "execution_count": 3,
   "metadata": {},
   "outputs": [],
   "source": [
    "data_dir = 'data/masked_images/data/trainval/breeds_cat/'\n",
    "test_data_dir = 'data/masked_images/data/test/breeds_cat/'\n",
    "normalize = torchvision.transforms.Normalize(mean=[0.485, 0.456, 0.406],\n",
    "                                  std=[0.229, 0.224, 0.225])\n",
    "trainloader, valloader, classes, labels = model_utils.load_split_train_val(data_dir, .25)"
   ]
  },
  {
   "cell_type": "code",
   "execution_count": 4,
   "metadata": {},
   "outputs": [],
   "source": [
    "use_gpu = torch.cuda.is_available()\n",
    "\n",
    "model_cat = torchvision.models.resnet50(pretrained=True)\n",
    "num_ftrs = model_cat.fc.in_features\n",
    "\n",
    "model_cat.fc = nn.Linear(num_ftrs, len(classes))\n",
    "\n",
    "if use_gpu:\n",
    "    model_cat = model_cat.cuda()\n",
    "\n",
    "criterion = nn.CrossEntropyLoss()\n",
    "\n",
    "optimizer_ft = optim.SGD(model_cat.parameters(), lr=0.001)\n",
    "\n",
    "scheduler = lr_scheduler.StepLR(optimizer_ft, step_size=5, gamma=0.1)"
   ]
  },
  {
   "cell_type": "code",
   "execution_count": 5,
   "metadata": {},
   "outputs": [
    {
     "name": "stdout",
     "output_type": "stream",
     "text": [
      "Epoch 0/14\n",
      "--------------------\n",
      "train Loss: 2.5594 Acc: 0.1041\n",
      "val Loss: 2.4522 Acc: 0.1069\n",
      "--------------------\n",
      "Epoch 1/14\n",
      "--------------------\n",
      "train Loss: 2.5218 Acc: 0.0964\n",
      "val Loss: 2.3796 Acc: 0.1719\n",
      "--------------------\n",
      "Epoch 2/14\n",
      "--------------------\n",
      "train Loss: 2.4766 Acc: 0.1167\n",
      "val Loss: 2.1951 Acc: 0.2264\n",
      "--------------------\n",
      "Epoch 3/14\n",
      "--------------------\n",
      "train Loss: 2.4045 Acc: 0.1614\n",
      "val Loss: 2.0089 Acc: 0.3711\n",
      "--------------------\n",
      "Epoch 4/14\n",
      "--------------------\n",
      "train Loss: 2.2952 Acc: 0.2117\n",
      "val Loss: 1.8375 Acc: 0.4549\n",
      "--------------------\n",
      "Epoch 5/14\n",
      "--------------------\n",
      "train Loss: 2.1233 Acc: 0.4249\n",
      "val Loss: 1.8073 Acc: 0.4885\n",
      "--------------------\n",
      "Epoch 6/14\n",
      "--------------------\n",
      "train Loss: 2.0971 Acc: 0.5353\n",
      "val Loss: 1.7252 Acc: 0.5514\n",
      "--------------------\n",
      "Epoch 7/14\n",
      "--------------------\n",
      "train Loss: 2.0778 Acc: 0.4696\n",
      "val Loss: 1.6855 Acc: 0.5556\n",
      "--------------------\n",
      "Epoch 8/14\n",
      "--------------------\n",
      "train Loss: 2.0611 Acc: 0.5556\n",
      "val Loss: 1.6817 Acc: 0.5472\n",
      "--------------------\n",
      "Epoch 9/14\n",
      "--------------------\n",
      "train Loss: 2.0416 Acc: 0.5199\n",
      "val Loss: 1.6645 Acc: 0.5597\n",
      "--------------------\n",
      "Epoch 10/14\n",
      "--------------------\n",
      "train Loss: 2.0184 Acc: 0.6688\n",
      "val Loss: 1.6770 Acc: 0.5597\n",
      "--------------------\n",
      "Epoch 11/14\n",
      "--------------------\n",
      "train Loss: 2.0151 Acc: 0.6240\n",
      "val Loss: 1.6691 Acc: 0.5451\n",
      "--------------------\n",
      "Epoch 12/14\n",
      "--------------------\n",
      "train Loss: 2.0126 Acc: 0.6408\n",
      "val Loss: 1.6360 Acc: 0.5430\n",
      "--------------------\n",
      "Epoch 13/14\n",
      "--------------------\n",
      "train Loss: 2.0103 Acc: 0.6261\n",
      "val Loss: 1.6510 Acc: 0.5514\n",
      "--------------------\n",
      "Epoch 14/14\n",
      "--------------------\n",
      "train Loss: 2.0082 Acc: 0.6045\n",
      "val Loss: 1.7016 Acc: 0.4990\n",
      "--------------------\n",
      "Best val Acc: 0.559748\n"
     ]
    }
   ],
   "source": [
    "model_cat = model_utils.train_model(model=model_cat,\n",
    "                           criterion=criterion,\n",
    "                           optimizer=optimizer_ft,\n",
    "                           scheduler=scheduler,\n",
    "                           trainloader=trainloader,\n",
    "                           valloader=valloader,\n",
    "                           num_epochs=15)"
   ]
  },
  {
   "cell_type": "code",
   "execution_count": 10,
   "metadata": {},
   "outputs": [],
   "source": [
    "saving_path = './trained_model/resnet50_breed_cat.pth'\n",
    "torch.save(model_cat, saving_path)"
   ]
  },
  {
   "cell_type": "code",
   "execution_count": 11,
   "metadata": {},
   "outputs": [
    {
     "name": "stdout",
     "output_type": "stream",
     "text": [
      "Overall accuracy for all breeds 44% \n",
      "\n",
      "Accuracy of Abyssinian :  7 %\n",
      "Accuracy of Bengal : 55 %\n",
      "Accuracy of Birman : 97 %\n",
      "Accuracy of Bombay : 82 %\n",
      "Accuracy of British_Shorthair : 80 %\n",
      "Accuracy of Egyptian_Mau :  0 %\n",
      "Accuracy of Maine_Coon : 42 %\n",
      "Accuracy of Persian : 75 %\n",
      "Accuracy of Ragdoll : 22 %\n",
      "Accuracy of Russian_Blue :  0 %\n",
      "Accuracy of Siamese : 20 %\n",
      "Accuracy of Sphynx : 57 %\n"
     ]
    }
   ],
   "source": [
    "model_utils.print_test_acc(model_cat, normalize, test_data_dir)"
   ]
  },
  {
   "cell_type": "code",
   "execution_count": null,
   "metadata": {},
   "outputs": [],
   "source": []
  }
 ],
 "metadata": {
  "kernelspec": {
   "display_name": "Python 3",
   "language": "python",
   "name": "python3"
  },
  "language_info": {
   "codemirror_mode": {
    "name": "ipython",
    "version": 3
   },
   "file_extension": ".py",
   "mimetype": "text/x-python",
   "name": "python",
   "nbconvert_exporter": "python",
   "pygments_lexer": "ipython3",
   "version": "3.6.8"
  }
 },
 "nbformat": 4,
 "nbformat_minor": 2
}
